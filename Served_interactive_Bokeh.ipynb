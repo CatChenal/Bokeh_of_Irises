{
 "cells": [
  {
   "cell_type": "markdown",
   "metadata": {},
   "source": [
    "---\n",
    "---\n",
    "# Pre-requisites:"
   ]
  },
  {
   "cell_type": "markdown",
   "metadata": {},
   "source": [
    "# Imports for this notebook:"
   ]
  },
  {
   "cell_type": "code",
   "execution_count": null,
   "metadata": {},
   "outputs": [],
   "source": [
    "import os\n",
    "from IPython.display import Image\n",
    "\n",
    "# in case you edit the modules, apply the changes:\n",
    "%load_ext autoreload\n",
    "%autoreload 2"
   ]
  },
  {
   "cell_type": "markdown",
   "metadata": {},
   "source": [
    "### Main requirements via `%load` magic (installed libraries):"
   ]
  },
  {
   "cell_type": "raw",
   "metadata": {},
   "source": [
    "%load requirements.txt"
   ]
  },
  {
   "cell_type": "markdown",
   "metadata": {},
   "source": [
    "### + One local module, utils:"
   ]
  },
  {
   "cell_type": "code",
   "execution_count": null,
   "metadata": {},
   "outputs": [],
   "source": [
    "import utils #local module\n",
    "\n",
    "# Check notebook environment:\n",
    "lab = utils.is_lab_notebook()\n",
    "if lab:\n",
    "    from IPython.display import Markdown\n",
    "    \n",
    "utils.check_notebook()"
   ]
  },
  {
   "cell_type": "markdown",
   "metadata": {},
   "source": [
    "---\n",
    "---\n",
    "# Bokeh served html document example  \n",
    "\n",
    "It is my understanding that Bokeh uses different approaches to rendering a document depending on the detination application.  \n",
    "For instance, to output a document containing widgets and their callback functions (event handlers), Bokeh has these requirements:\n",
    "* Standalone Documents\n",
    "\n",
    "> These are Bokeh documents that are not backed by a Bokeh server. They may have many tools and interactions  \n",
    "(~~e.g. from~~ using CustomJS [not python] callbacks [if using bokeh.models.widgets]) but are self-contained HTML, JavaScript, and CSS. They can be embedded into  \n",
    "other HTML pages as one large document, or as a set of sub-components templated individually.  \n",
    "\n",
    "* Bokeh Applications  \n",
    "> These are Bokeh documents that are backed by a Bokeh Server. In addition to all the features of standalone  \n",
    "documents, it is also possible to connect events and tools to real Python callbacks, that execute in the Bokeh  \n",
    "server. See Running a Bokeh Server for more information about creating and running Bokeh apps.  \n",
    "\n",
    "---"
   ]
  },
  {
   "cell_type": "markdown",
   "metadata": {},
   "source": [
    "* In JupyterLab:\n",
    "> In order to embed Bokeh plots inside of JupyterLab, you need to install the “jupyterlab_bokeh” JupyterLab extension. This can be done by running the command:  \n",
    "```jupyter labextension install jupyterlab_bokeh```"
   ]
  },
  {
   "cell_type": "markdown",
   "metadata": {},
   "source": [
    "## For viewing purpose only, load `bokeh_of_irises_example.py` in a cell:\n",
    "Must be edited via an IDE, not in the cell, hence change the cell mode to `Raw` after loading."
   ]
  },
  {
   "cell_type": "code",
   "execution_count": null,
   "metadata": {},
   "outputs": [],
   "source": [
    "%load ./irises/Bokeh_of_Irises.py"
   ]
  },
  {
   "cell_type": "markdown",
   "metadata": {},
   "source": [
    "## Comand line usage to render the html file: \n",
    "```\n",
    "cd irises\n",
    "bokeh serve --show Bokeh_of_Irises.py\n",
    "``` "
   ]
  },
  {
   "cell_type": "markdown",
   "metadata": {},
   "source": [
    "## A new browser tab will open with the application running at:\n",
    "```http://localhost:[port]/Bokeh_of_Irises```, where [port] is usually 5006"
   ]
  },
  {
   "cell_type": "markdown",
   "metadata": {},
   "source": [
    "#### The X and Y axes data are controlled by the \"`. Feature:`\" selection boxes and the filtering is done by the `Species` box:  \n",
    "\n",
    "<div style=\"width:800px;height:660px;padding:10px;\">\n",
    "    \n",
    "<img src=\"./screenshot.png\" \n",
    "     style=\"width:600px;height:650px;\"\n",
    "     alt=\"Screenshot of functional Bokeh of Irises app.\">\n",
    "</div>"
   ]
  },
  {
   "cell_type": "markdown",
   "metadata": {},
   "source": [
    "### *Caveat Coder*:"
   ]
  },
  {
   "cell_type": "code",
   "execution_count": null,
   "metadata": {},
   "outputs": [],
   "source": [
    "utils.caveat_coder()"
   ]
  }
 ],
 "metadata": {
  "kernelspec": {
   "display_name": "Python 3",
   "language": "python",
   "name": "python3"
  },
  "language_info": {
   "codemirror_mode": {
    "name": "ipython",
    "version": 3
   },
   "file_extension": ".py",
   "mimetype": "text/x-python",
   "name": "python",
   "nbconvert_exporter": "python",
   "pygments_lexer": "ipython3",
   "version": "3.6.6"
  }
 },
 "nbformat": 4,
 "nbformat_minor": 2
}
