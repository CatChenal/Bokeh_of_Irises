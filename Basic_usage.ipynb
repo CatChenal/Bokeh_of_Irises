{
 "cells": [
  {
   "cell_type": "markdown",
   "metadata": {},
   "source": [
    "# Basic usage, with added annnotations\n",
    "Source: https://github.com/bokeh/bokeh/blob/1.1.0/examples/howto/notebook_comms/Basic%20Usage.ipynb  \n",
    "\n",
    "---"
   ]
  },
  {
   "cell_type": "markdown",
   "metadata": {},
   "source": [
    "* In JupyterLab:\n",
    "> In order to embed Bokeh plots inside of JupyterLab, you need to install the “jupyterlab_bokeh” JupyterLab extension. This can be done by running the command:  \n",
    "```jupyter labextension install jupyterlab_bokeh```"
   ]
  },
  {
   "cell_type": "code",
   "execution_count": 1,
   "metadata": {},
   "outputs": [
    {
     "data": {
      "text/html": [
       "\n",
       "    <div class=\"bk-root\">\n",
       "        <a href=\"https://bokeh.pydata.org\" target=\"_blank\" class=\"bk-logo bk-logo-small bk-logo-notebook\"></a>\n",
       "        <span id=\"2d0beb99-5a31-401b-8146-9a3165afeeb1\">Loading BokehJS ...</span>\n",
       "    </div>"
      ]
     },
     "metadata": {},
     "output_type": "display_data"
    },
    {
     "data": {
      "application/javascript": [
       "\n",
       "(function(root) {\n",
       "  function now() {\n",
       "    return new Date();\n",
       "  }\n",
       "\n",
       "  var force = true;\n",
       "\n",
       "  if (typeof (root._bokeh_onload_callbacks) === \"undefined\" || force === true) {\n",
       "    root._bokeh_onload_callbacks = [];\n",
       "    root._bokeh_is_loading = undefined;\n",
       "  }\n",
       "\n",
       "  var JS_MIME_TYPE = 'application/javascript';\n",
       "  var HTML_MIME_TYPE = 'text/html';\n",
       "  var EXEC_MIME_TYPE = 'application/vnd.bokehjs_exec.v0+json';\n",
       "  var CLASS_NAME = 'output_bokeh rendered_html';\n",
       "\n",
       "  /**\n",
       "   * Render data to the DOM node\n",
       "   */\n",
       "  function render(props, node) {\n",
       "    var script = document.createElement(\"script\");\n",
       "    node.appendChild(script);\n",
       "  }\n",
       "\n",
       "  /**\n",
       "   * Handle when an output is cleared or removed\n",
       "   */\n",
       "  function handleClearOutput(event, handle) {\n",
       "    var cell = handle.cell;\n",
       "\n",
       "    var id = cell.output_area._bokeh_element_id;\n",
       "    var server_id = cell.output_area._bokeh_server_id;\n",
       "    // Clean up Bokeh references\n",
       "    if (id != null && id in Bokeh.index) {\n",
       "      Bokeh.index[id].model.document.clear();\n",
       "      delete Bokeh.index[id];\n",
       "    }\n",
       "\n",
       "    if (server_id !== undefined) {\n",
       "      // Clean up Bokeh references\n",
       "      var cmd = \"from bokeh.io.state import curstate; print(curstate().uuid_to_server['\" + server_id + \"'].get_sessions()[0].document.roots[0]._id)\";\n",
       "      cell.notebook.kernel.execute(cmd, {\n",
       "        iopub: {\n",
       "          output: function(msg) {\n",
       "            var id = msg.content.text.trim();\n",
       "            if (id in Bokeh.index) {\n",
       "              Bokeh.index[id].model.document.clear();\n",
       "              delete Bokeh.index[id];\n",
       "            }\n",
       "          }\n",
       "        }\n",
       "      });\n",
       "      // Destroy server and session\n",
       "      var cmd = \"import bokeh.io.notebook as ion; ion.destroy_server('\" + server_id + \"')\";\n",
       "      cell.notebook.kernel.execute(cmd);\n",
       "    }\n",
       "  }\n",
       "\n",
       "  /**\n",
       "   * Handle when a new output is added\n",
       "   */\n",
       "  function handleAddOutput(event, handle) {\n",
       "    var output_area = handle.output_area;\n",
       "    var output = handle.output;\n",
       "\n",
       "    // limit handleAddOutput to display_data with EXEC_MIME_TYPE content only\n",
       "    if ((output.output_type != \"display_data\") || (!output.data.hasOwnProperty(EXEC_MIME_TYPE))) {\n",
       "      return\n",
       "    }\n",
       "\n",
       "    var toinsert = output_area.element.find(\".\" + CLASS_NAME.split(' ')[0]);\n",
       "\n",
       "    if (output.metadata[EXEC_MIME_TYPE][\"id\"] !== undefined) {\n",
       "      toinsert[toinsert.length - 1].firstChild.textContent = output.data[JS_MIME_TYPE];\n",
       "      // store reference to embed id on output_area\n",
       "      output_area._bokeh_element_id = output.metadata[EXEC_MIME_TYPE][\"id\"];\n",
       "    }\n",
       "    if (output.metadata[EXEC_MIME_TYPE][\"server_id\"] !== undefined) {\n",
       "      var bk_div = document.createElement(\"div\");\n",
       "      bk_div.innerHTML = output.data[HTML_MIME_TYPE];\n",
       "      var script_attrs = bk_div.children[0].attributes;\n",
       "      for (var i = 0; i < script_attrs.length; i++) {\n",
       "        toinsert[toinsert.length - 1].firstChild.setAttribute(script_attrs[i].name, script_attrs[i].value);\n",
       "      }\n",
       "      // store reference to server id on output_area\n",
       "      output_area._bokeh_server_id = output.metadata[EXEC_MIME_TYPE][\"server_id\"];\n",
       "    }\n",
       "  }\n",
       "\n",
       "  function register_renderer(events, OutputArea) {\n",
       "\n",
       "    function append_mime(data, metadata, element) {\n",
       "      // create a DOM node to render to\n",
       "      var toinsert = this.create_output_subarea(\n",
       "        metadata,\n",
       "        CLASS_NAME,\n",
       "        EXEC_MIME_TYPE\n",
       "      );\n",
       "      this.keyboard_manager.register_events(toinsert);\n",
       "      // Render to node\n",
       "      var props = {data: data, metadata: metadata[EXEC_MIME_TYPE]};\n",
       "      render(props, toinsert[toinsert.length - 1]);\n",
       "      element.append(toinsert);\n",
       "      return toinsert\n",
       "    }\n",
       "\n",
       "    /* Handle when an output is cleared or removed */\n",
       "    events.on('clear_output.CodeCell', handleClearOutput);\n",
       "    events.on('delete.Cell', handleClearOutput);\n",
       "\n",
       "    /* Handle when a new output is added */\n",
       "    events.on('output_added.OutputArea', handleAddOutput);\n",
       "\n",
       "    /**\n",
       "     * Register the mime type and append_mime function with output_area\n",
       "     */\n",
       "    OutputArea.prototype.register_mime_type(EXEC_MIME_TYPE, append_mime, {\n",
       "      /* Is output safe? */\n",
       "      safe: true,\n",
       "      /* Index of renderer in `output_area.display_order` */\n",
       "      index: 0\n",
       "    });\n",
       "  }\n",
       "\n",
       "  // register the mime type if in Jupyter Notebook environment and previously unregistered\n",
       "  if (root.Jupyter !== undefined) {\n",
       "    var events = require('base/js/events');\n",
       "    var OutputArea = require('notebook/js/outputarea').OutputArea;\n",
       "\n",
       "    if (OutputArea.prototype.mime_types().indexOf(EXEC_MIME_TYPE) == -1) {\n",
       "      register_renderer(events, OutputArea);\n",
       "    }\n",
       "  }\n",
       "\n",
       "  \n",
       "  if (typeof (root._bokeh_timeout) === \"undefined\" || force === true) {\n",
       "    root._bokeh_timeout = Date.now() + 5000;\n",
       "    root._bokeh_failed_load = false;\n",
       "  }\n",
       "\n",
       "  var NB_LOAD_WARNING = {'data': {'text/html':\n",
       "     \"<div style='background-color: #fdd'>\\n\"+\n",
       "     \"<p>\\n\"+\n",
       "     \"BokehJS does not appear to have successfully loaded. If loading BokehJS from CDN, this \\n\"+\n",
       "     \"may be due to a slow or bad network connection. Possible fixes:\\n\"+\n",
       "     \"</p>\\n\"+\n",
       "     \"<ul>\\n\"+\n",
       "     \"<li>re-rerun `output_notebook()` to attempt to load from CDN again, or</li>\\n\"+\n",
       "     \"<li>use INLINE resources instead, as so:</li>\\n\"+\n",
       "     \"</ul>\\n\"+\n",
       "     \"<code>\\n\"+\n",
       "     \"from bokeh.resources import INLINE\\n\"+\n",
       "     \"output_notebook(resources=INLINE)\\n\"+\n",
       "     \"</code>\\n\"+\n",
       "     \"</div>\"}};\n",
       "\n",
       "  function display_loaded() {\n",
       "    var el = document.getElementById(\"2d0beb99-5a31-401b-8146-9a3165afeeb1\");\n",
       "    if (el != null) {\n",
       "      el.textContent = \"BokehJS is loading...\";\n",
       "    }\n",
       "    if (root.Bokeh !== undefined) {\n",
       "      if (el != null) {\n",
       "        el.textContent = \"BokehJS \" + root.Bokeh.version + \" successfully loaded.\";\n",
       "      }\n",
       "    } else if (Date.now() < root._bokeh_timeout) {\n",
       "      setTimeout(display_loaded, 100)\n",
       "    }\n",
       "  }\n",
       "\n",
       "\n",
       "  function run_callbacks() {\n",
       "    try {\n",
       "      root._bokeh_onload_callbacks.forEach(function(callback) { callback() });\n",
       "    }\n",
       "    finally {\n",
       "      delete root._bokeh_onload_callbacks\n",
       "    }\n",
       "    console.info(\"Bokeh: all callbacks have finished\");\n",
       "  }\n",
       "\n",
       "  function load_libs(js_urls, callback) {\n",
       "    root._bokeh_onload_callbacks.push(callback);\n",
       "    if (root._bokeh_is_loading > 0) {\n",
       "      console.log(\"Bokeh: BokehJS is being loaded, scheduling callback at\", now());\n",
       "      return null;\n",
       "    }\n",
       "    if (js_urls == null || js_urls.length === 0) {\n",
       "      run_callbacks();\n",
       "      return null;\n",
       "    }\n",
       "    console.log(\"Bokeh: BokehJS not loaded, scheduling load and callback at\", now());\n",
       "    root._bokeh_is_loading = js_urls.length;\n",
       "    for (var i = 0; i < js_urls.length; i++) {\n",
       "      var url = js_urls[i];\n",
       "      var s = document.createElement('script');\n",
       "      s.src = url;\n",
       "      s.async = false;\n",
       "      s.onreadystatechange = s.onload = function() {\n",
       "        root._bokeh_is_loading--;\n",
       "        if (root._bokeh_is_loading === 0) {\n",
       "          console.log(\"Bokeh: all BokehJS libraries loaded\");\n",
       "          run_callbacks()\n",
       "        }\n",
       "      };\n",
       "      s.onerror = function() {\n",
       "        console.warn(\"failed to load library \" + url);\n",
       "      };\n",
       "      console.log(\"Bokeh: injecting script tag for BokehJS library: \", url);\n",
       "      document.getElementsByTagName(\"head\")[0].appendChild(s);\n",
       "    }\n",
       "  };var element = document.getElementById(\"2d0beb99-5a31-401b-8146-9a3165afeeb1\");\n",
       "  if (element == null) {\n",
       "    console.log(\"Bokeh: ERROR: autoload.js configured with elementid '2d0beb99-5a31-401b-8146-9a3165afeeb1' but no matching script tag was found. \")\n",
       "    return false;\n",
       "  }\n",
       "\n",
       "  var js_urls = [\"https://cdn.pydata.org/bokeh/release/bokeh-0.13.0.min.js\", \"https://cdn.pydata.org/bokeh/release/bokeh-widgets-0.13.0.min.js\", \"https://cdn.pydata.org/bokeh/release/bokeh-tables-0.13.0.min.js\", \"https://cdn.pydata.org/bokeh/release/bokeh-gl-0.13.0.min.js\"];\n",
       "\n",
       "  var inline_js = [\n",
       "    function(Bokeh) {\n",
       "      Bokeh.set_log_level(\"info\");\n",
       "    },\n",
       "    \n",
       "    function(Bokeh) {\n",
       "      \n",
       "    },\n",
       "    function(Bokeh) {\n",
       "      console.log(\"Bokeh: injecting CSS: https://cdn.pydata.org/bokeh/release/bokeh-0.13.0.min.css\");\n",
       "      Bokeh.embed.inject_css(\"https://cdn.pydata.org/bokeh/release/bokeh-0.13.0.min.css\");\n",
       "      console.log(\"Bokeh: injecting CSS: https://cdn.pydata.org/bokeh/release/bokeh-widgets-0.13.0.min.css\");\n",
       "      Bokeh.embed.inject_css(\"https://cdn.pydata.org/bokeh/release/bokeh-widgets-0.13.0.min.css\");\n",
       "      console.log(\"Bokeh: injecting CSS: https://cdn.pydata.org/bokeh/release/bokeh-tables-0.13.0.min.css\");\n",
       "      Bokeh.embed.inject_css(\"https://cdn.pydata.org/bokeh/release/bokeh-tables-0.13.0.min.css\");\n",
       "    }\n",
       "  ];\n",
       "\n",
       "  function run_inline_js() {\n",
       "    \n",
       "    if ((root.Bokeh !== undefined) || (force === true)) {\n",
       "      for (var i = 0; i < inline_js.length; i++) {\n",
       "        inline_js[i].call(root, root.Bokeh);\n",
       "      }if (force === true) {\n",
       "        display_loaded();\n",
       "      }} else if (Date.now() < root._bokeh_timeout) {\n",
       "      setTimeout(run_inline_js, 100);\n",
       "    } else if (!root._bokeh_failed_load) {\n",
       "      console.log(\"Bokeh: BokehJS failed to load within specified timeout.\");\n",
       "      root._bokeh_failed_load = true;\n",
       "    } else if (force !== true) {\n",
       "      var cell = $(document.getElementById(\"2d0beb99-5a31-401b-8146-9a3165afeeb1\")).parents('.cell').data().cell;\n",
       "      cell.output_area.append_execute_result(NB_LOAD_WARNING)\n",
       "    }\n",
       "\n",
       "  }\n",
       "\n",
       "  if (root._bokeh_is_loading === 0) {\n",
       "    console.log(\"Bokeh: BokehJS loaded, going straight to plotting\");\n",
       "    run_inline_js();\n",
       "  } else {\n",
       "    load_libs(js_urls, function() {\n",
       "      console.log(\"Bokeh: BokehJS plotting callback run at\", now());\n",
       "      run_inline_js();\n",
       "    });\n",
       "  }\n",
       "}(window));"
      ],
      "application/vnd.bokehjs_load.v0+json": "\n(function(root) {\n  function now() {\n    return new Date();\n  }\n\n  var force = true;\n\n  if (typeof (root._bokeh_onload_callbacks) === \"undefined\" || force === true) {\n    root._bokeh_onload_callbacks = [];\n    root._bokeh_is_loading = undefined;\n  }\n\n  \n\n  \n  if (typeof (root._bokeh_timeout) === \"undefined\" || force === true) {\n    root._bokeh_timeout = Date.now() + 5000;\n    root._bokeh_failed_load = false;\n  }\n\n  var NB_LOAD_WARNING = {'data': {'text/html':\n     \"<div style='background-color: #fdd'>\\n\"+\n     \"<p>\\n\"+\n     \"BokehJS does not appear to have successfully loaded. If loading BokehJS from CDN, this \\n\"+\n     \"may be due to a slow or bad network connection. Possible fixes:\\n\"+\n     \"</p>\\n\"+\n     \"<ul>\\n\"+\n     \"<li>re-rerun `output_notebook()` to attempt to load from CDN again, or</li>\\n\"+\n     \"<li>use INLINE resources instead, as so:</li>\\n\"+\n     \"</ul>\\n\"+\n     \"<code>\\n\"+\n     \"from bokeh.resources import INLINE\\n\"+\n     \"output_notebook(resources=INLINE)\\n\"+\n     \"</code>\\n\"+\n     \"</div>\"}};\n\n  function display_loaded() {\n    var el = document.getElementById(\"2d0beb99-5a31-401b-8146-9a3165afeeb1\");\n    if (el != null) {\n      el.textContent = \"BokehJS is loading...\";\n    }\n    if (root.Bokeh !== undefined) {\n      if (el != null) {\n        el.textContent = \"BokehJS \" + root.Bokeh.version + \" successfully loaded.\";\n      }\n    } else if (Date.now() < root._bokeh_timeout) {\n      setTimeout(display_loaded, 100)\n    }\n  }\n\n\n  function run_callbacks() {\n    try {\n      root._bokeh_onload_callbacks.forEach(function(callback) { callback() });\n    }\n    finally {\n      delete root._bokeh_onload_callbacks\n    }\n    console.info(\"Bokeh: all callbacks have finished\");\n  }\n\n  function load_libs(js_urls, callback) {\n    root._bokeh_onload_callbacks.push(callback);\n    if (root._bokeh_is_loading > 0) {\n      console.log(\"Bokeh: BokehJS is being loaded, scheduling callback at\", now());\n      return null;\n    }\n    if (js_urls == null || js_urls.length === 0) {\n      run_callbacks();\n      return null;\n    }\n    console.log(\"Bokeh: BokehJS not loaded, scheduling load and callback at\", now());\n    root._bokeh_is_loading = js_urls.length;\n    for (var i = 0; i < js_urls.length; i++) {\n      var url = js_urls[i];\n      var s = document.createElement('script');\n      s.src = url;\n      s.async = false;\n      s.onreadystatechange = s.onload = function() {\n        root._bokeh_is_loading--;\n        if (root._bokeh_is_loading === 0) {\n          console.log(\"Bokeh: all BokehJS libraries loaded\");\n          run_callbacks()\n        }\n      };\n      s.onerror = function() {\n        console.warn(\"failed to load library \" + url);\n      };\n      console.log(\"Bokeh: injecting script tag for BokehJS library: \", url);\n      document.getElementsByTagName(\"head\")[0].appendChild(s);\n    }\n  };var element = document.getElementById(\"2d0beb99-5a31-401b-8146-9a3165afeeb1\");\n  if (element == null) {\n    console.log(\"Bokeh: ERROR: autoload.js configured with elementid '2d0beb99-5a31-401b-8146-9a3165afeeb1' but no matching script tag was found. \")\n    return false;\n  }\n\n  var js_urls = [\"https://cdn.pydata.org/bokeh/release/bokeh-0.13.0.min.js\", \"https://cdn.pydata.org/bokeh/release/bokeh-widgets-0.13.0.min.js\", \"https://cdn.pydata.org/bokeh/release/bokeh-tables-0.13.0.min.js\", \"https://cdn.pydata.org/bokeh/release/bokeh-gl-0.13.0.min.js\"];\n\n  var inline_js = [\n    function(Bokeh) {\n      Bokeh.set_log_level(\"info\");\n    },\n    \n    function(Bokeh) {\n      \n    },\n    function(Bokeh) {\n      console.log(\"Bokeh: injecting CSS: https://cdn.pydata.org/bokeh/release/bokeh-0.13.0.min.css\");\n      Bokeh.embed.inject_css(\"https://cdn.pydata.org/bokeh/release/bokeh-0.13.0.min.css\");\n      console.log(\"Bokeh: injecting CSS: https://cdn.pydata.org/bokeh/release/bokeh-widgets-0.13.0.min.css\");\n      Bokeh.embed.inject_css(\"https://cdn.pydata.org/bokeh/release/bokeh-widgets-0.13.0.min.css\");\n      console.log(\"Bokeh: injecting CSS: https://cdn.pydata.org/bokeh/release/bokeh-tables-0.13.0.min.css\");\n      Bokeh.embed.inject_css(\"https://cdn.pydata.org/bokeh/release/bokeh-tables-0.13.0.min.css\");\n    }\n  ];\n\n  function run_inline_js() {\n    \n    if ((root.Bokeh !== undefined) || (force === true)) {\n      for (var i = 0; i < inline_js.length; i++) {\n        inline_js[i].call(root, root.Bokeh);\n      }if (force === true) {\n        display_loaded();\n      }} else if (Date.now() < root._bokeh_timeout) {\n      setTimeout(run_inline_js, 100);\n    } else if (!root._bokeh_failed_load) {\n      console.log(\"Bokeh: BokehJS failed to load within specified timeout.\");\n      root._bokeh_failed_load = true;\n    } else if (force !== true) {\n      var cell = $(document.getElementById(\"2d0beb99-5a31-401b-8146-9a3165afeeb1\")).parents('.cell').data().cell;\n      cell.output_area.append_execute_result(NB_LOAD_WARNING)\n    }\n\n  }\n\n  if (root._bokeh_is_loading === 0) {\n    console.log(\"Bokeh: BokehJS loaded, going straight to plotting\");\n    run_inline_js();\n  } else {\n    load_libs(js_urls, function() {\n      console.log(\"Bokeh: BokehJS plotting callback run at\", now());\n      run_inline_js();\n    });\n  }\n}(window));"
     },
     "metadata": {},
     "output_type": "display_data"
    }
   ],
   "source": [
    "from bokeh.io import push_notebook, show, output_notebook\n",
    "from bokeh.layouts import row\n",
    "from bokeh.plotting import figure\n",
    "\n",
    "output_notebook()"
   ]
  },
  {
   "cell_type": "code",
   "execution_count": 2,
   "metadata": {},
   "outputs": [
    {
     "data": {
      "text/html": [
       "\n",
       "\n",
       "\n",
       "\n",
       "\n",
       "\n",
       "  <div class=\"bk-root\" id=\"5b33efc4-b02a-41d9-852a-3dd7ea0972f8\"></div>\n"
      ]
     },
     "metadata": {},
     "output_type": "display_data"
    },
    {
     "data": {
      "application/javascript": [
       "(function(root) {\n",
       "  function embed_document(root) {\n",
       "    \n",
       "  var docs_json = {\"7765bbda-6fad-40fd-891e-a27a64547430\":{\"roots\":{\"references\":[{\"attributes\":{},\"id\":\"77055d3e-4697-4c83-985e-906f83b579e9\",\"type\":\"Selection\"},{\"attributes\":{},\"id\":\"d5317258-0738-439b-91a6-e865f4c6f3f3\",\"type\":\"UnionRenderers\"},{\"attributes\":{\"plot\":null,\"text\":\"\"},\"id\":\"87d23619-a838-41b9-904a-3c6b946b0f8b\",\"type\":\"Title\"},{\"attributes\":{\"data_source\":{\"id\":\"fca55e92-ed9e-4691-82db-a246abfe0387\",\"type\":\"ColumnDataSource\"},\"glyph\":{\"id\":\"03f5e9f3-95b4-4aa8-953f-af8417348127\",\"type\":\"Circle\"},\"hover_glyph\":null,\"muted_glyph\":null,\"nonselection_glyph\":{\"id\":\"9120d877-7526-4a32-ab53-c87715c2d34d\",\"type\":\"Circle\"},\"selection_glyph\":null,\"view\":{\"id\":\"48460112-72be-4a3b-b2fb-6d6b6b63a106\",\"type\":\"CDSView\"}},\"id\":\"75938a03-fd83-439f-955e-6c82386da547\",\"type\":\"GlyphRenderer\"},{\"attributes\":{\"active_drag\":\"auto\",\"active_inspect\":\"auto\",\"active_multi\":null,\"active_scroll\":\"auto\",\"active_tap\":\"auto\",\"tools\":[{\"id\":\"ea088f3b-f982-4cc6-95ce-f262b1ab9e98\",\"type\":\"PanTool\"},{\"id\":\"f11fdee6-8764-4d81-8c75-dd31b73895ae\",\"type\":\"WheelZoomTool\"},{\"id\":\"e279aab5-1693-4eb2-bda8-07054ad7a801\",\"type\":\"BoxZoomTool\"},{\"id\":\"697d35e4-57d7-402c-8864-3da41e254627\",\"type\":\"SaveTool\"},{\"id\":\"37e447a1-2044-42c7-9f62-829663f0aa25\",\"type\":\"ResetTool\"},{\"id\":\"c21ab171-e388-4005-a80b-a2c768c0201c\",\"type\":\"HelpTool\"}]},\"id\":\"490cdb16-6021-448f-864a-ea76c7efbc9a\",\"type\":\"Toolbar\"},{\"attributes\":{\"callback\":null,\"data\":{\"x\":[1,2,3],\"y\":[4,5,6]},\"selected\":{\"id\":\"77055d3e-4697-4c83-985e-906f83b579e9\",\"type\":\"Selection\"},\"selection_policy\":{\"id\":\"d5317258-0738-439b-91a6-e865f4c6f3f3\",\"type\":\"UnionRenderers\"}},\"id\":\"fca55e92-ed9e-4691-82db-a246abfe0387\",\"type\":\"ColumnDataSource\"},{\"attributes\":{\"callback\":null},\"id\":\"cb12086b-7b60-4672-92ce-6c883dfce1c9\",\"type\":\"DataRange1d\"},{\"attributes\":{\"fill_color\":{\"value\":\"#1f77b4\"},\"line_color\":{\"value\":\"#1f77b4\"},\"size\":{\"units\":\"screen\",\"value\":20},\"x\":{\"field\":\"x\"},\"y\":{\"field\":\"y\"}},\"id\":\"03f5e9f3-95b4-4aa8-953f-af8417348127\",\"type\":\"Circle\"},{\"attributes\":{\"callback\":null},\"id\":\"a42c8a41-0b29-4b11-8fc8-9e476baa9636\",\"type\":\"DataRange1d\"},{\"attributes\":{},\"id\":\"6207aebd-ae07-44c0-8fe9-250f4a9a7204\",\"type\":\"LinearScale\"},{\"attributes\":{\"callback\":null,\"data\":{\"x\":[1,2,3],\"y\":[4,5,6]},\"selected\":{\"id\":\"ec8d1e45-e4d4-4b07-b6b0-f82d2c94290b\",\"type\":\"Selection\"},\"selection_policy\":{\"id\":\"08c35721-638b-42a5-b70a-a064c85dbf51\",\"type\":\"UnionRenderers\"}},\"id\":\"1e3aea56-3f00-4816-bb04-1a174fda5801\",\"type\":\"ColumnDataSource\"},{\"attributes\":{},\"id\":\"3acb70b8-c039-4df3-9e02-2ba62978d5e2\",\"type\":\"LinearScale\"},{\"attributes\":{\"active_drag\":\"auto\",\"active_inspect\":\"auto\",\"active_multi\":null,\"active_scroll\":\"auto\",\"active_tap\":\"auto\",\"tools\":[{\"id\":\"7251ac46-c205-419a-a71b-0fa57359f222\",\"type\":\"PanTool\"},{\"id\":\"93b55460-c5de-4ced-88f3-939b2044f5ff\",\"type\":\"WheelZoomTool\"},{\"id\":\"55a630b0-e7c5-4bc6-812e-0765602e26a0\",\"type\":\"BoxZoomTool\"},{\"id\":\"83e66e86-2c10-43c6-9e23-5aa532c88246\",\"type\":\"SaveTool\"},{\"id\":\"815133e9-25c1-4ff8-b5cc-1618b9901b00\",\"type\":\"ResetTool\"},{\"id\":\"aab3e015-801f-45c6-b328-46f07f7cad1c\",\"type\":\"HelpTool\"}]},\"id\":\"e2d3f020-cfbf-4e6f-ae5a-166a9aef9e0c\",\"type\":\"Toolbar\"},{\"attributes\":{\"plot\":{\"id\":\"d687d74a-b4a0-47ae-a81b-a9897fbcb620\",\"subtype\":\"Figure\",\"type\":\"Plot\"},\"ticker\":{\"id\":\"b35d86c2-4410-4e03-b502-46eb12a6e034\",\"type\":\"BasicTicker\"}},\"id\":\"78d3ca65-fe53-45cf-af22-ca3c5faf8c15\",\"type\":\"Grid\"},{\"attributes\":{\"source\":{\"id\":\"1e3aea56-3f00-4816-bb04-1a174fda5801\",\"type\":\"ColumnDataSource\"}},\"id\":\"3b6ca5c5-27bd-4549-9aac-96a0fcb85b6e\",\"type\":\"CDSView\"},{\"attributes\":{\"below\":[{\"id\":\"e8691e76-1ae2-4595-a74f-f71bb69b40ea\",\"type\":\"LinearAxis\"}],\"left\":[{\"id\":\"d6d4c8a1-67e0-41e5-9888-4edc81a55fb6\",\"type\":\"LinearAxis\"}],\"min_border\":0,\"plot_height\":250,\"plot_width\":250,\"renderers\":[{\"id\":\"e8691e76-1ae2-4595-a74f-f71bb69b40ea\",\"type\":\"LinearAxis\"},{\"id\":\"cdb19693-bc20-4a7c-af8e-4bffe918c28c\",\"type\":\"Grid\"},{\"id\":\"d6d4c8a1-67e0-41e5-9888-4edc81a55fb6\",\"type\":\"LinearAxis\"},{\"id\":\"4715bd55-6910-4c56-aa81-0f6da25d82f4\",\"type\":\"Grid\"},{\"id\":\"8cf31a55-6d10-49c2-ad75-39077110080e\",\"type\":\"BoxAnnotation\"},{\"id\":\"f6ba144b-8f8c-4633-8f2a-5f9dd0a0ccb7\",\"type\":\"GlyphRenderer\"}],\"title\":{\"id\":\"8c25ac06-515c-455c-bff4-f99c3c1096fe\",\"type\":\"Title\"},\"toolbar\":{\"id\":\"e2d3f020-cfbf-4e6f-ae5a-166a9aef9e0c\",\"type\":\"Toolbar\"},\"x_range\":{\"id\":\"dd7fa7e6-c9bc-4e62-8c0b-83d1792d2665\",\"type\":\"DataRange1d\"},\"x_scale\":{\"id\":\"2765bc55-91fd-4dea-aecc-8a58ced2e100\",\"type\":\"LinearScale\"},\"y_range\":{\"id\":\"09cccca5-378d-4fd3-903e-0e43c71629dd\",\"type\":\"DataRange1d\"},\"y_scale\":{\"id\":\"d97a5d62-c2a5-485e-bc7a-7691e5e2956b\",\"type\":\"LinearScale\"}},\"id\":\"5407e1ea-7d21-4aa3-9937-5b9c548ce1cf\",\"subtype\":\"Figure\",\"type\":\"Plot\"},{\"attributes\":{\"formatter\":{\"id\":\"535d9f65-fc24-4fe2-b777-e229bf27922c\",\"type\":\"BasicTickFormatter\"},\"plot\":{\"id\":\"d687d74a-b4a0-47ae-a81b-a9897fbcb620\",\"subtype\":\"Figure\",\"type\":\"Plot\"},\"ticker\":{\"id\":\"b35d86c2-4410-4e03-b502-46eb12a6e034\",\"type\":\"BasicTicker\"}},\"id\":\"7fea63b2-e7a2-48c8-81f1-0fce24da99e4\",\"type\":\"LinearAxis\"},{\"attributes\":{\"callback\":null},\"id\":\"dd7fa7e6-c9bc-4e62-8c0b-83d1792d2665\",\"type\":\"DataRange1d\"},{\"attributes\":{},\"id\":\"b35d86c2-4410-4e03-b502-46eb12a6e034\",\"type\":\"BasicTicker\"},{\"attributes\":{\"below\":[{\"id\":\"7fea63b2-e7a2-48c8-81f1-0fce24da99e4\",\"type\":\"LinearAxis\"}],\"left\":[{\"id\":\"3a18d7bf-84ca-408a-845c-223349292a99\",\"type\":\"LinearAxis\"}],\"min_border\":0,\"plot_height\":250,\"plot_width\":250,\"renderers\":[{\"id\":\"7fea63b2-e7a2-48c8-81f1-0fce24da99e4\",\"type\":\"LinearAxis\"},{\"id\":\"78d3ca65-fe53-45cf-af22-ca3c5faf8c15\",\"type\":\"Grid\"},{\"id\":\"3a18d7bf-84ca-408a-845c-223349292a99\",\"type\":\"LinearAxis\"},{\"id\":\"4c37b7d7-e603-46d9-ba5c-d6d332828cb0\",\"type\":\"Grid\"},{\"id\":\"7b642214-05fd-4a38-ad86-271f55844369\",\"type\":\"BoxAnnotation\"},{\"id\":\"75938a03-fd83-439f-955e-6c82386da547\",\"type\":\"GlyphRenderer\"}],\"title\":{\"id\":\"87d23619-a838-41b9-904a-3c6b946b0f8b\",\"type\":\"Title\"},\"toolbar\":{\"id\":\"490cdb16-6021-448f-864a-ea76c7efbc9a\",\"type\":\"Toolbar\"},\"x_range\":{\"id\":\"cb12086b-7b60-4672-92ce-6c883dfce1c9\",\"type\":\"DataRange1d\"},\"x_scale\":{\"id\":\"6207aebd-ae07-44c0-8fe9-250f4a9a7204\",\"type\":\"LinearScale\"},\"y_range\":{\"id\":\"a42c8a41-0b29-4b11-8fc8-9e476baa9636\",\"type\":\"DataRange1d\"},\"y_scale\":{\"id\":\"3acb70b8-c039-4df3-9e02-2ba62978d5e2\",\"type\":\"LinearScale\"}},\"id\":\"d687d74a-b4a0-47ae-a81b-a9897fbcb620\",\"subtype\":\"Figure\",\"type\":\"Plot\"},{\"attributes\":{\"formatter\":{\"id\":\"ed459cc3-3023-4f92-90ea-13a26b88393f\",\"type\":\"BasicTickFormatter\"},\"plot\":{\"id\":\"d687d74a-b4a0-47ae-a81b-a9897fbcb620\",\"subtype\":\"Figure\",\"type\":\"Plot\"},\"ticker\":{\"id\":\"8d1cc602-8aef-4e3c-b9ae-5d7484a214d4\",\"type\":\"BasicTicker\"}},\"id\":\"3a18d7bf-84ca-408a-845c-223349292a99\",\"type\":\"LinearAxis\"},{\"attributes\":{\"callback\":null},\"id\":\"09cccca5-378d-4fd3-903e-0e43c71629dd\",\"type\":\"DataRange1d\"},{\"attributes\":{},\"id\":\"8d1cc602-8aef-4e3c-b9ae-5d7484a214d4\",\"type\":\"BasicTicker\"},{\"attributes\":{},\"id\":\"2765bc55-91fd-4dea-aecc-8a58ced2e100\",\"type\":\"LinearScale\"},{\"attributes\":{\"dimension\":1,\"plot\":{\"id\":\"d687d74a-b4a0-47ae-a81b-a9897fbcb620\",\"subtype\":\"Figure\",\"type\":\"Plot\"},\"ticker\":{\"id\":\"8d1cc602-8aef-4e3c-b9ae-5d7484a214d4\",\"type\":\"BasicTicker\"}},\"id\":\"4c37b7d7-e603-46d9-ba5c-d6d332828cb0\",\"type\":\"Grid\"},{\"attributes\":{},\"id\":\"d97a5d62-c2a5-485e-bc7a-7691e5e2956b\",\"type\":\"LinearScale\"},{\"attributes\":{\"fill_alpha\":{\"value\":0.1},\"fill_color\":{\"value\":\"#1f77b4\"},\"line_alpha\":{\"value\":0.1},\"line_color\":{\"value\":\"#1f77b4\"},\"size\":{\"units\":\"screen\",\"value\":20},\"x\":{\"field\":\"x\"},\"y\":{\"field\":\"y\"}},\"id\":\"9120d877-7526-4a32-ab53-c87715c2d34d\",\"type\":\"Circle\"},{\"attributes\":{\"fill_color\":{\"value\":\"#1f77b4\"},\"line_color\":{\"value\":\"#1f77b4\"},\"size\":{\"units\":\"screen\",\"value\":20},\"x\":{\"field\":\"x\"},\"y\":{\"field\":\"y\"}},\"id\":\"80f20ced-0a90-4a3d-8cd7-5af70b5f593d\",\"type\":\"Circle\"},{\"attributes\":{\"formatter\":{\"id\":\"5639cdea-d112-4a41-bb54-463d31d659e0\",\"type\":\"BasicTickFormatter\"},\"plot\":{\"id\":\"5407e1ea-7d21-4aa3-9937-5b9c548ce1cf\",\"subtype\":\"Figure\",\"type\":\"Plot\"},\"ticker\":{\"id\":\"6a6b6789-c302-41e4-9a0f-25946ecc8740\",\"type\":\"BasicTicker\"}},\"id\":\"e8691e76-1ae2-4595-a74f-f71bb69b40ea\",\"type\":\"LinearAxis\"},{\"attributes\":{\"children\":[{\"id\":\"5407e1ea-7d21-4aa3-9937-5b9c548ce1cf\",\"subtype\":\"Figure\",\"type\":\"Plot\"},{\"id\":\"d687d74a-b4a0-47ae-a81b-a9897fbcb620\",\"subtype\":\"Figure\",\"type\":\"Plot\"}]},\"id\":\"ddf72b42-cab1-4073-8068-c32197a9ff28\",\"type\":\"Row\"},{\"attributes\":{},\"id\":\"6a6b6789-c302-41e4-9a0f-25946ecc8740\",\"type\":\"BasicTicker\"},{\"attributes\":{\"bottom_units\":\"screen\",\"fill_alpha\":{\"value\":0.5},\"fill_color\":{\"value\":\"lightgrey\"},\"left_units\":\"screen\",\"level\":\"overlay\",\"line_alpha\":{\"value\":1.0},\"line_color\":{\"value\":\"black\"},\"line_dash\":[4,4],\"line_width\":{\"value\":2},\"plot\":null,\"render_mode\":\"css\",\"right_units\":\"screen\",\"top_units\":\"screen\"},\"id\":\"7b642214-05fd-4a38-ad86-271f55844369\",\"type\":\"BoxAnnotation\"},{\"attributes\":{\"plot\":{\"id\":\"5407e1ea-7d21-4aa3-9937-5b9c548ce1cf\",\"subtype\":\"Figure\",\"type\":\"Plot\"},\"ticker\":{\"id\":\"6a6b6789-c302-41e4-9a0f-25946ecc8740\",\"type\":\"BasicTicker\"}},\"id\":\"cdb19693-bc20-4a7c-af8e-4bffe918c28c\",\"type\":\"Grid\"},{\"attributes\":{\"data_source\":{\"id\":\"1e3aea56-3f00-4816-bb04-1a174fda5801\",\"type\":\"ColumnDataSource\"},\"glyph\":{\"id\":\"80f20ced-0a90-4a3d-8cd7-5af70b5f593d\",\"type\":\"Circle\"},\"hover_glyph\":null,\"muted_glyph\":null,\"nonselection_glyph\":{\"id\":\"1a608ca6-e1cb-424b-a0ed-f20e380f5114\",\"type\":\"Circle\"},\"selection_glyph\":null,\"view\":{\"id\":\"3b6ca5c5-27bd-4549-9aac-96a0fcb85b6e\",\"type\":\"CDSView\"}},\"id\":\"f6ba144b-8f8c-4633-8f2a-5f9dd0a0ccb7\",\"type\":\"GlyphRenderer\"},{\"attributes\":{},\"id\":\"ea088f3b-f982-4cc6-95ce-f262b1ab9e98\",\"type\":\"PanTool\"},{\"attributes\":{\"formatter\":{\"id\":\"a18d5ad6-1577-4b92-9c45-9b084a34960c\",\"type\":\"BasicTickFormatter\"},\"plot\":{\"id\":\"5407e1ea-7d21-4aa3-9937-5b9c548ce1cf\",\"subtype\":\"Figure\",\"type\":\"Plot\"},\"ticker\":{\"id\":\"3bcfc5c9-0dc1-438a-8020-2f1a0877cc3f\",\"type\":\"BasicTicker\"}},\"id\":\"d6d4c8a1-67e0-41e5-9888-4edc81a55fb6\",\"type\":\"LinearAxis\"},{\"attributes\":{},\"id\":\"ed459cc3-3023-4f92-90ea-13a26b88393f\",\"type\":\"BasicTickFormatter\"},{\"attributes\":{\"source\":{\"id\":\"fca55e92-ed9e-4691-82db-a246abfe0387\",\"type\":\"ColumnDataSource\"}},\"id\":\"48460112-72be-4a3b-b2fb-6d6b6b63a106\",\"type\":\"CDSView\"},{\"attributes\":{},\"id\":\"3bcfc5c9-0dc1-438a-8020-2f1a0877cc3f\",\"type\":\"BasicTicker\"},{\"attributes\":{},\"id\":\"f11fdee6-8764-4d81-8c75-dd31b73895ae\",\"type\":\"WheelZoomTool\"},{\"attributes\":{\"dimension\":1,\"plot\":{\"id\":\"5407e1ea-7d21-4aa3-9937-5b9c548ce1cf\",\"subtype\":\"Figure\",\"type\":\"Plot\"},\"ticker\":{\"id\":\"3bcfc5c9-0dc1-438a-8020-2f1a0877cc3f\",\"type\":\"BasicTicker\"}},\"id\":\"4715bd55-6910-4c56-aa81-0f6da25d82f4\",\"type\":\"Grid\"},{\"attributes\":{\"overlay\":{\"id\":\"7b642214-05fd-4a38-ad86-271f55844369\",\"type\":\"BoxAnnotation\"}},\"id\":\"e279aab5-1693-4eb2-bda8-07054ad7a801\",\"type\":\"BoxZoomTool\"},{\"attributes\":{},\"id\":\"697d35e4-57d7-402c-8864-3da41e254627\",\"type\":\"SaveTool\"},{\"attributes\":{},\"id\":\"37e447a1-2044-42c7-9f62-829663f0aa25\",\"type\":\"ResetTool\"},{\"attributes\":{},\"id\":\"c21ab171-e388-4005-a80b-a2c768c0201c\",\"type\":\"HelpTool\"},{\"attributes\":{},\"id\":\"7251ac46-c205-419a-a71b-0fa57359f222\",\"type\":\"PanTool\"},{\"attributes\":{},\"id\":\"535d9f65-fc24-4fe2-b777-e229bf27922c\",\"type\":\"BasicTickFormatter\"},{\"attributes\":{\"bottom_units\":\"screen\",\"fill_alpha\":{\"value\":0.5},\"fill_color\":{\"value\":\"lightgrey\"},\"left_units\":\"screen\",\"level\":\"overlay\",\"line_alpha\":{\"value\":1.0},\"line_color\":{\"value\":\"black\"},\"line_dash\":[4,4],\"line_width\":{\"value\":2},\"plot\":null,\"render_mode\":\"css\",\"right_units\":\"screen\",\"top_units\":\"screen\"},\"id\":\"8cf31a55-6d10-49c2-ad75-39077110080e\",\"type\":\"BoxAnnotation\"},{\"attributes\":{},\"id\":\"93b55460-c5de-4ced-88f3-939b2044f5ff\",\"type\":\"WheelZoomTool\"},{\"attributes\":{},\"id\":\"5639cdea-d112-4a41-bb54-463d31d659e0\",\"type\":\"BasicTickFormatter\"},{\"attributes\":{\"overlay\":{\"id\":\"8cf31a55-6d10-49c2-ad75-39077110080e\",\"type\":\"BoxAnnotation\"}},\"id\":\"55a630b0-e7c5-4bc6-812e-0765602e26a0\",\"type\":\"BoxZoomTool\"},{\"attributes\":{},\"id\":\"a18d5ad6-1577-4b92-9c45-9b084a34960c\",\"type\":\"BasicTickFormatter\"},{\"attributes\":{},\"id\":\"83e66e86-2c10-43c6-9e23-5aa532c88246\",\"type\":\"SaveTool\"},{\"attributes\":{},\"id\":\"ec8d1e45-e4d4-4b07-b6b0-f82d2c94290b\",\"type\":\"Selection\"},{\"attributes\":{\"plot\":null,\"text\":\"\"},\"id\":\"8c25ac06-515c-455c-bff4-f99c3c1096fe\",\"type\":\"Title\"},{\"attributes\":{},\"id\":\"815133e9-25c1-4ff8-b5cc-1618b9901b00\",\"type\":\"ResetTool\"},{\"attributes\":{},\"id\":\"08c35721-638b-42a5-b70a-a064c85dbf51\",\"type\":\"UnionRenderers\"},{\"attributes\":{},\"id\":\"aab3e015-801f-45c6-b328-46f07f7cad1c\",\"type\":\"HelpTool\"},{\"attributes\":{\"fill_alpha\":{\"value\":0.1},\"fill_color\":{\"value\":\"#1f77b4\"},\"line_alpha\":{\"value\":0.1},\"line_color\":{\"value\":\"#1f77b4\"},\"size\":{\"units\":\"screen\",\"value\":20},\"x\":{\"field\":\"x\"},\"y\":{\"field\":\"y\"}},\"id\":\"1a608ca6-e1cb-424b-a0ed-f20e380f5114\",\"type\":\"Circle\"}],\"root_ids\":[\"ddf72b42-cab1-4073-8068-c32197a9ff28\"]},\"title\":\"Bokeh Application\",\"version\":\"0.13.0\"}};\n",
       "  var render_items = [{\"docid\":\"7765bbda-6fad-40fd-891e-a27a64547430\",\"notebook_comms_target\":\"2bb2daeb-140f-46c4-8d84-737a0e5ecf39\",\"roots\":{\"ddf72b42-cab1-4073-8068-c32197a9ff28\":\"5b33efc4-b02a-41d9-852a-3dd7ea0972f8\"}}];\n",
       "  root.Bokeh.embed.embed_items_notebook(docs_json, render_items);\n",
       "\n",
       "  }\n",
       "  if (root.Bokeh !== undefined) {\n",
       "    embed_document(root);\n",
       "  } else {\n",
       "    var attempts = 0;\n",
       "    var timer = setInterval(function(root) {\n",
       "      if (root.Bokeh !== undefined) {\n",
       "        embed_document(root);\n",
       "        clearInterval(timer);\n",
       "      }\n",
       "      attempts++;\n",
       "      if (attempts > 100) {\n",
       "        console.log(\"Bokeh: ERROR: Unable to run BokehJS code because BokehJS library is missing\")\n",
       "        clearInterval(timer);\n",
       "      }\n",
       "    }, 10, root)\n",
       "  }\n",
       "})(window);"
      ],
      "application/vnd.bokehjs_exec.v0+json": ""
     },
     "metadata": {
      "application/vnd.bokehjs_exec.v0+json": {
       "id": "ddf72b42-cab1-4073-8068-c32197a9ff28"
      }
     },
     "output_type": "display_data"
    }
   ],
   "source": [
    "# create a dict for figure options:\n",
    "opts = dict(plot_width=250, plot_height=250, min_border=0)\n",
    "\n",
    "# create plots with markers:\n",
    "p1 = figure(**opts)\n",
    "m1 = p1.circle([1,2,3], [4,5,6], size=20)\n",
    "\n",
    "p2 = figure(**opts)\n",
    "m2 = p2.circle([1,2,3], [4,5,6], size=20)\n",
    "\n",
    "# get a handle to update the cell with\n",
    "t = show(row(p1, p2), notebook_handle=True)"
   ]
  },
  {
   "cell_type": "code",
   "execution_count": 3,
   "metadata": {},
   "outputs": [
    {
     "data": {
      "text/html": [
       "<p><code>&lt;Bokeh Notebook handle for <strong>In[2]</strong>&gt;</code></p>"
      ],
      "text/plain": [
       "<bokeh.io.notebook.CommsHandle at 0x188a650fcc0>"
      ]
     },
     "execution_count": 3,
     "metadata": {},
     "output_type": "execute_result"
    }
   ],
   "source": [
    "# the handle repr shows what cell it can be used to update;\n",
    "# the display will show e.g.: <Bokeh Notebook handle for In[2]>\n",
    "t"
   ]
  },
  {
   "cell_type": "code",
   "execution_count": 4,
   "metadata": {},
   "outputs": [],
   "source": [
    "# You can selectively update the plots attributes:\n",
    "\n",
    "# this will update the left plot circle color with an explicit handle\n",
    "m1.glyph.fill_color = \"white\"\n",
    "push_notebook(handle=t)\n",
    "\n",
    "# and this will update the right plot circle color because it was in the last shown cell\n",
    "m2.glyph.fill_color = \"pink\"\n",
    "push_notebook()"
   ]
  },
  {
   "cell_type": "code",
   "execution_count": 5,
   "metadata": {},
   "outputs": [
    {
     "data": {
      "text/html": [
       "\n",
       "\n",
       "\n",
       "\n",
       "\n",
       "\n",
       "  <div class=\"bk-root\" id=\"282c810e-c90c-414b-a224-e053747bb12a\"></div>\n"
      ]
     },
     "metadata": {},
     "output_type": "display_data"
    },
    {
     "data": {
      "application/javascript": [
       "(function(root) {\n",
       "  function embed_document(root) {\n",
       "    \n",
       "  var docs_json = {\"5e997bfb-98fe-4a7a-afda-8769ad0dfc29\":{\"roots\":{\"references\":[{\"attributes\":{},\"id\":\"1b3498d9-7577-49d3-8231-388864a01b2d\",\"type\":\"Selection\"},{\"attributes\":{\"data_source\":{\"id\":\"1a2194b2-0a82-4fee-afde-13fa2c9fba86\",\"type\":\"ColumnDataSource\"},\"glyph\":{\"id\":\"33d38f74-ebbe-4db4-9b7b-ef6b08b75362\",\"type\":\"Circle\"},\"hover_glyph\":null,\"muted_glyph\":null,\"nonselection_glyph\":{\"id\":\"b8b68f9b-2853-43d5-a962-8e5d23241ec9\",\"type\":\"Circle\"},\"selection_glyph\":null,\"view\":{\"id\":\"9581873c-dfb8-4629-9c6c-8f0a6bc9ada8\",\"type\":\"CDSView\"}},\"id\":\"db805d59-845a-4481-b350-d55cdc8a5f24\",\"type\":\"GlyphRenderer\"},{\"attributes\":{\"bottom_units\":\"screen\",\"fill_alpha\":{\"value\":0.5},\"fill_color\":{\"value\":\"lightgrey\"},\"left_units\":\"screen\",\"level\":\"overlay\",\"line_alpha\":{\"value\":1.0},\"line_color\":{\"value\":\"black\"},\"line_dash\":[4,4],\"line_width\":{\"value\":2},\"plot\":null,\"render_mode\":\"css\",\"right_units\":\"screen\",\"top_units\":\"screen\"},\"id\":\"c6c94091-657d-48c1-b98d-002ae95d710d\",\"type\":\"BoxAnnotation\"},{\"attributes\":{},\"id\":\"d328453c-e4fd-4c07-a175-690c51c38424\",\"type\":\"LinearScale\"},{\"attributes\":{\"source\":{\"id\":\"1a2194b2-0a82-4fee-afde-13fa2c9fba86\",\"type\":\"ColumnDataSource\"}},\"id\":\"9581873c-dfb8-4629-9c6c-8f0a6bc9ada8\",\"type\":\"CDSView\"},{\"attributes\":{},\"id\":\"4b841b24-1a40-4a9a-bb94-6a4a3d9948c2\",\"type\":\"PanTool\"},{\"attributes\":{\"callback\":null},\"id\":\"f8887ca6-3b29-4ccb-b7d3-80f6319328f8\",\"type\":\"DataRange1d\"},{\"attributes\":{\"below\":[{\"id\":\"bc93295c-456d-4b07-b7a2-a08a82c0c4d6\",\"type\":\"LinearAxis\"}],\"left\":[{\"id\":\"f652e143-bc1e-4540-bd7f-2de400d5777e\",\"type\":\"LinearAxis\"}],\"min_border\":0,\"plot_height\":250,\"plot_width\":250,\"renderers\":[{\"id\":\"bc93295c-456d-4b07-b7a2-a08a82c0c4d6\",\"type\":\"LinearAxis\"},{\"id\":\"8c4323c0-57d6-4a2d-a205-ac3ca4a48556\",\"type\":\"Grid\"},{\"id\":\"f652e143-bc1e-4540-bd7f-2de400d5777e\",\"type\":\"LinearAxis\"},{\"id\":\"a7d10dcc-b9b5-426b-b80e-3629c1791ea4\",\"type\":\"Grid\"},{\"id\":\"c6c94091-657d-48c1-b98d-002ae95d710d\",\"type\":\"BoxAnnotation\"},{\"id\":\"db805d59-845a-4481-b350-d55cdc8a5f24\",\"type\":\"GlyphRenderer\"}],\"title\":{\"id\":\"c0a03480-07dd-4c89-99f7-559fde3a7a0e\",\"type\":\"Title\"},\"toolbar\":{\"id\":\"e3814742-408f-476a-90a5-8545fb4e1ff7\",\"type\":\"Toolbar\"},\"x_range\":{\"id\":\"289b5f40-0870-47da-ba83-119d18a526dd\",\"type\":\"DataRange1d\"},\"x_scale\":{\"id\":\"3a3cab2e-1276-4b29-b7b4-1f5e95421653\",\"type\":\"LinearScale\"},\"y_range\":{\"id\":\"f8887ca6-3b29-4ccb-b7d3-80f6319328f8\",\"type\":\"DataRange1d\"},\"y_scale\":{\"id\":\"d328453c-e4fd-4c07-a175-690c51c38424\",\"type\":\"LinearScale\"}},\"id\":\"f8627509-a928-4ca2-aabd-d05c54a78c43\",\"subtype\":\"Figure\",\"type\":\"Plot\"},{\"attributes\":{},\"id\":\"f9cf4d42-5ed4-423d-b29e-e989b3bd6c7a\",\"type\":\"WheelZoomTool\"},{\"attributes\":{\"active_drag\":\"auto\",\"active_inspect\":\"auto\",\"active_multi\":null,\"active_scroll\":\"auto\",\"active_tap\":\"auto\",\"tools\":[{\"id\":\"4b841b24-1a40-4a9a-bb94-6a4a3d9948c2\",\"type\":\"PanTool\"},{\"id\":\"f9cf4d42-5ed4-423d-b29e-e989b3bd6c7a\",\"type\":\"WheelZoomTool\"},{\"id\":\"c467c98a-ca0d-46aa-b898-85bc11b0f61d\",\"type\":\"BoxZoomTool\"},{\"id\":\"6eb1cbbe-a100-439c-a1dc-7e865dedd623\",\"type\":\"SaveTool\"},{\"id\":\"1d0a78f1-17c9-42f4-bdd0-cc8857cac6d7\",\"type\":\"ResetTool\"},{\"id\":\"94d3b4fa-fdaf-4978-abfe-660c70557bd6\",\"type\":\"HelpTool\"}]},\"id\":\"e3814742-408f-476a-90a5-8545fb4e1ff7\",\"type\":\"Toolbar\"},{\"attributes\":{\"overlay\":{\"id\":\"c6c94091-657d-48c1-b98d-002ae95d710d\",\"type\":\"BoxAnnotation\"}},\"id\":\"c467c98a-ca0d-46aa-b898-85bc11b0f61d\",\"type\":\"BoxZoomTool\"},{\"attributes\":{\"callback\":null,\"data\":{\"x\":[1,2,3],\"y\":[4,5,6]},\"selected\":{\"id\":\"1b3498d9-7577-49d3-8231-388864a01b2d\",\"type\":\"Selection\"},\"selection_policy\":{\"id\":\"c25b61e6-d49e-4b57-8061-67733b8facdd\",\"type\":\"UnionRenderers\"}},\"id\":\"1a2194b2-0a82-4fee-afde-13fa2c9fba86\",\"type\":\"ColumnDataSource\"},{\"attributes\":{},\"id\":\"6eb1cbbe-a100-439c-a1dc-7e865dedd623\",\"type\":\"SaveTool\"},{\"attributes\":{\"fill_color\":{\"value\":\"#1f77b4\"},\"line_color\":{\"value\":\"#1f77b4\"},\"size\":{\"units\":\"screen\",\"value\":20},\"x\":{\"field\":\"x\"},\"y\":{\"field\":\"y\"}},\"id\":\"33d38f74-ebbe-4db4-9b7b-ef6b08b75362\",\"type\":\"Circle\"},{\"attributes\":{},\"id\":\"1d0a78f1-17c9-42f4-bdd0-cc8857cac6d7\",\"type\":\"ResetTool\"},{\"attributes\":{},\"id\":\"3a3cab2e-1276-4b29-b7b4-1f5e95421653\",\"type\":\"LinearScale\"},{\"attributes\":{},\"id\":\"94d3b4fa-fdaf-4978-abfe-660c70557bd6\",\"type\":\"HelpTool\"},{\"attributes\":{\"callback\":null},\"id\":\"289b5f40-0870-47da-ba83-119d18a526dd\",\"type\":\"DataRange1d\"},{\"attributes\":{\"plot\":{\"id\":\"f8627509-a928-4ca2-aabd-d05c54a78c43\",\"subtype\":\"Figure\",\"type\":\"Plot\"},\"ticker\":{\"id\":\"231cfc59-12c2-401f-8832-fd51f9fabac5\",\"type\":\"BasicTicker\"}},\"id\":\"8c4323c0-57d6-4a2d-a205-ac3ca4a48556\",\"type\":\"Grid\"},{\"attributes\":{\"formatter\":{\"id\":\"cf15e960-4a1b-4863-bc6f-491b4bc310d5\",\"type\":\"BasicTickFormatter\"},\"plot\":{\"id\":\"f8627509-a928-4ca2-aabd-d05c54a78c43\",\"subtype\":\"Figure\",\"type\":\"Plot\"},\"ticker\":{\"id\":\"231cfc59-12c2-401f-8832-fd51f9fabac5\",\"type\":\"BasicTicker\"}},\"id\":\"bc93295c-456d-4b07-b7a2-a08a82c0c4d6\",\"type\":\"LinearAxis\"},{\"attributes\":{},\"id\":\"c25b61e6-d49e-4b57-8061-67733b8facdd\",\"type\":\"UnionRenderers\"},{\"attributes\":{},\"id\":\"231cfc59-12c2-401f-8832-fd51f9fabac5\",\"type\":\"BasicTicker\"},{\"attributes\":{\"formatter\":{\"id\":\"1afd7e41-983b-4d6b-ac0a-1e230a14cb95\",\"type\":\"BasicTickFormatter\"},\"plot\":{\"id\":\"f8627509-a928-4ca2-aabd-d05c54a78c43\",\"subtype\":\"Figure\",\"type\":\"Plot\"},\"ticker\":{\"id\":\"dd175426-7119-44db-b592-4050acf61c75\",\"type\":\"BasicTicker\"}},\"id\":\"f652e143-bc1e-4540-bd7f-2de400d5777e\",\"type\":\"LinearAxis\"},{\"attributes\":{\"plot\":null,\"text\":\"\"},\"id\":\"c0a03480-07dd-4c89-99f7-559fde3a7a0e\",\"type\":\"Title\"},{\"attributes\":{},\"id\":\"dd175426-7119-44db-b592-4050acf61c75\",\"type\":\"BasicTicker\"},{\"attributes\":{},\"id\":\"cf15e960-4a1b-4863-bc6f-491b4bc310d5\",\"type\":\"BasicTickFormatter\"},{\"attributes\":{\"dimension\":1,\"plot\":{\"id\":\"f8627509-a928-4ca2-aabd-d05c54a78c43\",\"subtype\":\"Figure\",\"type\":\"Plot\"},\"ticker\":{\"id\":\"dd175426-7119-44db-b592-4050acf61c75\",\"type\":\"BasicTicker\"}},\"id\":\"a7d10dcc-b9b5-426b-b80e-3629c1791ea4\",\"type\":\"Grid\"},{\"attributes\":{\"fill_alpha\":{\"value\":0.1},\"fill_color\":{\"value\":\"#1f77b4\"},\"line_alpha\":{\"value\":0.1},\"line_color\":{\"value\":\"#1f77b4\"},\"size\":{\"units\":\"screen\",\"value\":20},\"x\":{\"field\":\"x\"},\"y\":{\"field\":\"y\"}},\"id\":\"b8b68f9b-2853-43d5-a962-8e5d23241ec9\",\"type\":\"Circle\"},{\"attributes\":{},\"id\":\"1afd7e41-983b-4d6b-ac0a-1e230a14cb95\",\"type\":\"BasicTickFormatter\"}],\"root_ids\":[\"f8627509-a928-4ca2-aabd-d05c54a78c43\"]},\"title\":\"Bokeh Application\",\"version\":\"0.13.0\"}};\n",
       "  var render_items = [{\"docid\":\"5e997bfb-98fe-4a7a-afda-8769ad0dfc29\",\"notebook_comms_target\":\"e1222327-8ddc-4b8a-8d85-9f819dfc1a1d\",\"roots\":{\"f8627509-a928-4ca2-aabd-d05c54a78c43\":\"282c810e-c90c-414b-a224-e053747bb12a\"}}];\n",
       "  root.Bokeh.embed.embed_items_notebook(docs_json, render_items);\n",
       "\n",
       "  }\n",
       "  if (root.Bokeh !== undefined) {\n",
       "    embed_document(root);\n",
       "  } else {\n",
       "    var attempts = 0;\n",
       "    var timer = setInterval(function(root) {\n",
       "      if (root.Bokeh !== undefined) {\n",
       "        embed_document(root);\n",
       "        clearInterval(timer);\n",
       "      }\n",
       "      attempts++;\n",
       "      if (attempts > 100) {\n",
       "        console.log(\"Bokeh: ERROR: Unable to run BokehJS code because BokehJS library is missing\")\n",
       "        clearInterval(timer);\n",
       "      }\n",
       "    }, 10, root)\n",
       "  }\n",
       "})(window);"
      ],
      "application/vnd.bokehjs_exec.v0+json": ""
     },
     "metadata": {
      "application/vnd.bokehjs_exec.v0+json": {
       "id": "f8627509-a928-4ca2-aabd-d05c54a78c43"
      }
     },
     "output_type": "display_data"
    },
    {
     "data": {
      "text/html": [
       "<p><code>&lt;Bokeh Notebook handle for <strong>In[5]</strong>&gt;</code></p>"
      ],
      "text/plain": [
       "<bokeh.io.notebook.CommsHandle at 0x188a6566358>"
      ]
     },
     "execution_count": 5,
     "metadata": {},
     "output_type": "execute_result"
    }
   ],
   "source": [
    "# Add another:\n",
    "\n",
    "p3 = figure(**opts)\n",
    "m3 = p3.circle([1,2,3], [4,5,6], size=20)\n",
    "\n",
    "# get a handle to update the shown cell with\n",
    "t2 = show(p3, notebook_handle=True)\n",
    "t2"
   ]
  },
  {
   "cell_type": "code",
   "execution_count": 6,
   "metadata": {},
   "outputs": [],
   "source": [
    "# this updates the immediately previous cell with an explicit handle\n",
    "m3.glyph.fill_color = \"orange\"\n",
    "push_notebook(handle=t2)"
   ]
  },
  {
   "cell_type": "code",
   "execution_count": 7,
   "metadata": {},
   "outputs": [],
   "source": [
    "# this updates the left plot at the top with an explicit handle\n",
    "m1.glyph.fill_color = \"orange\"\n",
    "push_notebook(handle=t)"
   ]
  },
  {
   "cell_type": "code",
   "execution_count": 8,
   "metadata": {},
   "outputs": [
    {
     "data": {
      "text/html": [
       "\n",
       "\n",
       "\n",
       "\n",
       "\n",
       "\n",
       "  <div class=\"bk-root\" id=\"116c8497-0ed6-49eb-aecd-0a517c360ca9\"></div>\n"
      ]
     },
     "metadata": {},
     "output_type": "display_data"
    },
    {
     "data": {
      "application/javascript": [
       "(function(root) {\n",
       "  function embed_document(root) {\n",
       "    \n",
       "  var docs_json = {\"3ea11237-d667-4f04-9c2b-d7a3735e529c\":{\"roots\":{\"references\":[{\"attributes\":{\"dimension\":1,\"plot\":{\"id\":\"d687d74a-b4a0-47ae-a81b-a9897fbcb620\",\"subtype\":\"Figure\",\"type\":\"Plot\"},\"ticker\":{\"id\":\"8d1cc602-8aef-4e3c-b9ae-5d7484a214d4\",\"type\":\"BasicTicker\"}},\"id\":\"4c37b7d7-e603-46d9-ba5c-d6d332828cb0\",\"type\":\"Grid\"},{\"attributes\":{},\"id\":\"77055d3e-4697-4c83-985e-906f83b579e9\",\"type\":\"Selection\"},{\"attributes\":{\"fill_alpha\":{\"value\":0.1},\"fill_color\":{\"value\":\"#1f77b4\"},\"line_alpha\":{\"value\":0.1},\"line_color\":{\"value\":\"#1f77b4\"},\"size\":{\"units\":\"screen\",\"value\":20},\"x\":{\"field\":\"x\"},\"y\":{\"field\":\"y\"}},\"id\":\"9120d877-7526-4a32-ab53-c87715c2d34d\",\"type\":\"Circle\"},{\"attributes\":{},\"id\":\"d5317258-0738-439b-91a6-e865f4c6f3f3\",\"type\":\"UnionRenderers\"},{\"attributes\":{\"bottom_units\":\"screen\",\"fill_alpha\":{\"value\":0.5},\"fill_color\":{\"value\":\"lightgrey\"},\"left_units\":\"screen\",\"level\":\"overlay\",\"line_alpha\":{\"value\":1.0},\"line_color\":{\"value\":\"black\"},\"line_dash\":[4,4],\"line_width\":{\"value\":2},\"plot\":null,\"render_mode\":\"css\",\"right_units\":\"screen\",\"top_units\":\"screen\"},\"id\":\"7b642214-05fd-4a38-ad86-271f55844369\",\"type\":\"BoxAnnotation\"},{\"attributes\":{\"plot\":null,\"text\":\"\"},\"id\":\"87d23619-a838-41b9-904a-3c6b946b0f8b\",\"type\":\"Title\"},{\"attributes\":{},\"id\":\"ea088f3b-f982-4cc6-95ce-f262b1ab9e98\",\"type\":\"PanTool\"},{\"attributes\":{\"source\":{\"id\":\"fca55e92-ed9e-4691-82db-a246abfe0387\",\"type\":\"ColumnDataSource\"}},\"id\":\"48460112-72be-4a3b-b2fb-6d6b6b63a106\",\"type\":\"CDSView\"},{\"attributes\":{\"data_source\":{\"id\":\"fca55e92-ed9e-4691-82db-a246abfe0387\",\"type\":\"ColumnDataSource\"},\"glyph\":{\"id\":\"03f5e9f3-95b4-4aa8-953f-af8417348127\",\"type\":\"Circle\"},\"hover_glyph\":null,\"muted_glyph\":null,\"nonselection_glyph\":{\"id\":\"9120d877-7526-4a32-ab53-c87715c2d34d\",\"type\":\"Circle\"},\"selection_glyph\":null,\"view\":{\"id\":\"48460112-72be-4a3b-b2fb-6d6b6b63a106\",\"type\":\"CDSView\"}},\"id\":\"75938a03-fd83-439f-955e-6c82386da547\",\"type\":\"GlyphRenderer\"},{\"attributes\":{},\"id\":\"f11fdee6-8764-4d81-8c75-dd31b73895ae\",\"type\":\"WheelZoomTool\"},{\"attributes\":{\"callback\":null,\"data\":{\"x\":[1,2,3],\"y\":[4,5,6]},\"selected\":{\"id\":\"77055d3e-4697-4c83-985e-906f83b579e9\",\"type\":\"Selection\"},\"selection_policy\":{\"id\":\"d5317258-0738-439b-91a6-e865f4c6f3f3\",\"type\":\"UnionRenderers\"}},\"id\":\"fca55e92-ed9e-4691-82db-a246abfe0387\",\"type\":\"ColumnDataSource\"},{\"attributes\":{\"active_drag\":\"auto\",\"active_inspect\":\"auto\",\"active_multi\":null,\"active_scroll\":\"auto\",\"active_tap\":\"auto\",\"tools\":[{\"id\":\"ea088f3b-f982-4cc6-95ce-f262b1ab9e98\",\"type\":\"PanTool\"},{\"id\":\"f11fdee6-8764-4d81-8c75-dd31b73895ae\",\"type\":\"WheelZoomTool\"},{\"id\":\"e279aab5-1693-4eb2-bda8-07054ad7a801\",\"type\":\"BoxZoomTool\"},{\"id\":\"697d35e4-57d7-402c-8864-3da41e254627\",\"type\":\"SaveTool\"},{\"id\":\"37e447a1-2044-42c7-9f62-829663f0aa25\",\"type\":\"ResetTool\"},{\"id\":\"c21ab171-e388-4005-a80b-a2c768c0201c\",\"type\":\"HelpTool\"}]},\"id\":\"490cdb16-6021-448f-864a-ea76c7efbc9a\",\"type\":\"Toolbar\"},{\"attributes\":{\"overlay\":{\"id\":\"7b642214-05fd-4a38-ad86-271f55844369\",\"type\":\"BoxAnnotation\"}},\"id\":\"e279aab5-1693-4eb2-bda8-07054ad7a801\",\"type\":\"BoxZoomTool\"},{\"attributes\":{\"callback\":null},\"id\":\"cb12086b-7b60-4672-92ce-6c883dfce1c9\",\"type\":\"DataRange1d\"},{\"attributes\":{},\"id\":\"697d35e4-57d7-402c-8864-3da41e254627\",\"type\":\"SaveTool\"},{\"attributes\":{\"fill_color\":{\"value\":\"pink\"},\"line_color\":{\"value\":\"#1f77b4\"},\"size\":{\"units\":\"screen\",\"value\":20},\"x\":{\"field\":\"x\"},\"y\":{\"field\":\"y\"}},\"id\":\"03f5e9f3-95b4-4aa8-953f-af8417348127\",\"type\":\"Circle\"},{\"attributes\":{},\"id\":\"37e447a1-2044-42c7-9f62-829663f0aa25\",\"type\":\"ResetTool\"},{\"attributes\":{\"callback\":null},\"id\":\"a42c8a41-0b29-4b11-8fc8-9e476baa9636\",\"type\":\"DataRange1d\"},{\"attributes\":{},\"id\":\"c21ab171-e388-4005-a80b-a2c768c0201c\",\"type\":\"HelpTool\"},{\"attributes\":{},\"id\":\"6207aebd-ae07-44c0-8fe9-250f4a9a7204\",\"type\":\"LinearScale\"},{\"attributes\":{},\"id\":\"535d9f65-fc24-4fe2-b777-e229bf27922c\",\"type\":\"BasicTickFormatter\"},{\"attributes\":{},\"id\":\"3acb70b8-c039-4df3-9e02-2ba62978d5e2\",\"type\":\"LinearScale\"},{\"attributes\":{\"plot\":{\"id\":\"d687d74a-b4a0-47ae-a81b-a9897fbcb620\",\"subtype\":\"Figure\",\"type\":\"Plot\"},\"ticker\":{\"id\":\"b35d86c2-4410-4e03-b502-46eb12a6e034\",\"type\":\"BasicTicker\"}},\"id\":\"78d3ca65-fe53-45cf-af22-ca3c5faf8c15\",\"type\":\"Grid\"},{\"attributes\":{\"formatter\":{\"id\":\"535d9f65-fc24-4fe2-b777-e229bf27922c\",\"type\":\"BasicTickFormatter\"},\"plot\":{\"id\":\"d687d74a-b4a0-47ae-a81b-a9897fbcb620\",\"subtype\":\"Figure\",\"type\":\"Plot\"},\"ticker\":{\"id\":\"b35d86c2-4410-4e03-b502-46eb12a6e034\",\"type\":\"BasicTicker\"}},\"id\":\"7fea63b2-e7a2-48c8-81f1-0fce24da99e4\",\"type\":\"LinearAxis\"},{\"attributes\":{},\"id\":\"b35d86c2-4410-4e03-b502-46eb12a6e034\",\"type\":\"BasicTicker\"},{\"attributes\":{\"below\":[{\"id\":\"7fea63b2-e7a2-48c8-81f1-0fce24da99e4\",\"type\":\"LinearAxis\"}],\"left\":[{\"id\":\"3a18d7bf-84ca-408a-845c-223349292a99\",\"type\":\"LinearAxis\"}],\"min_border\":0,\"plot_height\":250,\"plot_width\":250,\"renderers\":[{\"id\":\"7fea63b2-e7a2-48c8-81f1-0fce24da99e4\",\"type\":\"LinearAxis\"},{\"id\":\"78d3ca65-fe53-45cf-af22-ca3c5faf8c15\",\"type\":\"Grid\"},{\"id\":\"3a18d7bf-84ca-408a-845c-223349292a99\",\"type\":\"LinearAxis\"},{\"id\":\"4c37b7d7-e603-46d9-ba5c-d6d332828cb0\",\"type\":\"Grid\"},{\"id\":\"7b642214-05fd-4a38-ad86-271f55844369\",\"type\":\"BoxAnnotation\"},{\"id\":\"75938a03-fd83-439f-955e-6c82386da547\",\"type\":\"GlyphRenderer\"}],\"title\":{\"id\":\"87d23619-a838-41b9-904a-3c6b946b0f8b\",\"type\":\"Title\"},\"toolbar\":{\"id\":\"490cdb16-6021-448f-864a-ea76c7efbc9a\",\"type\":\"Toolbar\"},\"x_range\":{\"id\":\"cb12086b-7b60-4672-92ce-6c883dfce1c9\",\"type\":\"DataRange1d\"},\"x_scale\":{\"id\":\"6207aebd-ae07-44c0-8fe9-250f4a9a7204\",\"type\":\"LinearScale\"},\"y_range\":{\"id\":\"a42c8a41-0b29-4b11-8fc8-9e476baa9636\",\"type\":\"DataRange1d\"},\"y_scale\":{\"id\":\"3acb70b8-c039-4df3-9e02-2ba62978d5e2\",\"type\":\"LinearScale\"}},\"id\":\"d687d74a-b4a0-47ae-a81b-a9897fbcb620\",\"subtype\":\"Figure\",\"type\":\"Plot\"},{\"attributes\":{},\"id\":\"ed459cc3-3023-4f92-90ea-13a26b88393f\",\"type\":\"BasicTickFormatter\"},{\"attributes\":{\"formatter\":{\"id\":\"ed459cc3-3023-4f92-90ea-13a26b88393f\",\"type\":\"BasicTickFormatter\"},\"plot\":{\"id\":\"d687d74a-b4a0-47ae-a81b-a9897fbcb620\",\"subtype\":\"Figure\",\"type\":\"Plot\"},\"ticker\":{\"id\":\"8d1cc602-8aef-4e3c-b9ae-5d7484a214d4\",\"type\":\"BasicTicker\"}},\"id\":\"3a18d7bf-84ca-408a-845c-223349292a99\",\"type\":\"LinearAxis\"},{\"attributes\":{},\"id\":\"8d1cc602-8aef-4e3c-b9ae-5d7484a214d4\",\"type\":\"BasicTicker\"}],\"root_ids\":[\"d687d74a-b4a0-47ae-a81b-a9897fbcb620\"]},\"title\":\"Bokeh Application\",\"version\":\"0.13.0\"}};\n",
       "  var render_items = [{\"docid\":\"3ea11237-d667-4f04-9c2b-d7a3735e529c\",\"notebook_comms_target\":\"0a560463-2c22-44e6-b85f-bd2c7eea42c2\",\"roots\":{\"d687d74a-b4a0-47ae-a81b-a9897fbcb620\":\"116c8497-0ed6-49eb-aecd-0a517c360ca9\"}}];\n",
       "  root.Bokeh.embed.embed_items_notebook(docs_json, render_items);\n",
       "\n",
       "  }\n",
       "  if (root.Bokeh !== undefined) {\n",
       "    embed_document(root);\n",
       "  } else {\n",
       "    var attempts = 0;\n",
       "    var timer = setInterval(function(root) {\n",
       "      if (root.Bokeh !== undefined) {\n",
       "        embed_document(root);\n",
       "        clearInterval(timer);\n",
       "      }\n",
       "      attempts++;\n",
       "      if (attempts > 100) {\n",
       "        console.log(\"Bokeh: ERROR: Unable to run BokehJS code because BokehJS library is missing\")\n",
       "        clearInterval(timer);\n",
       "      }\n",
       "    }, 10, root)\n",
       "  }\n",
       "})(window);"
      ],
      "application/vnd.bokehjs_exec.v0+json": ""
     },
     "metadata": {
      "application/vnd.bokehjs_exec.v0+json": {
       "id": "d687d74a-b4a0-47ae-a81b-a9897fbcb620"
      }
     },
     "output_type": "display_data"
    }
   ],
   "source": [
    "# get a handle to update the shown cell with\n",
    "t3 = show(p2, notebook_handle=True)"
   ]
  },
  {
   "cell_type": "code",
   "execution_count": 9,
   "metadata": {},
   "outputs": [],
   "source": [
    "# this will update the immediately previous plot circle color because it was in the last shown cell\n",
    "m2.glyph.fill_color = \"red\"\n",
    "push_notebook()"
   ]
  },
  {
   "cell_type": "code",
   "execution_count": 10,
   "metadata": {},
   "outputs": [
    {
     "data": {
      "text/html": [
       "\n",
       "\n",
       "\n",
       "\n",
       "\n",
       "\n",
       "  <div class=\"bk-root\" id=\"8bc6ec7a-06dc-422f-807a-35e6ef31409d\"></div>\n"
      ]
     },
     "metadata": {},
     "output_type": "display_data"
    },
    {
     "data": {
      "application/javascript": [
       "(function(root) {\n",
       "  function embed_document(root) {\n",
       "    \n",
       "  var docs_json = {\"efc01840-2970-4710-9a25-3cb13fc86138\":{\"roots\":{\"references\":[{\"attributes\":{\"dimension\":1,\"plot\":{\"id\":\"d687d74a-b4a0-47ae-a81b-a9897fbcb620\",\"subtype\":\"Figure\",\"type\":\"Plot\"},\"ticker\":{\"id\":\"8d1cc602-8aef-4e3c-b9ae-5d7484a214d4\",\"type\":\"BasicTicker\"}},\"id\":\"4c37b7d7-e603-46d9-ba5c-d6d332828cb0\",\"type\":\"Grid\"},{\"attributes\":{},\"id\":\"77055d3e-4697-4c83-985e-906f83b579e9\",\"type\":\"Selection\"},{\"attributes\":{\"fill_alpha\":{\"value\":0.1},\"fill_color\":{\"value\":\"#1f77b4\"},\"line_alpha\":{\"value\":0.1},\"line_color\":{\"value\":\"#1f77b4\"},\"size\":{\"units\":\"screen\",\"value\":20},\"x\":{\"field\":\"x\"},\"y\":{\"field\":\"y\"}},\"id\":\"9120d877-7526-4a32-ab53-c87715c2d34d\",\"type\":\"Circle\"},{\"attributes\":{},\"id\":\"d5317258-0738-439b-91a6-e865f4c6f3f3\",\"type\":\"UnionRenderers\"},{\"attributes\":{\"bottom_units\":\"screen\",\"fill_alpha\":{\"value\":0.5},\"fill_color\":{\"value\":\"lightgrey\"},\"left_units\":\"screen\",\"level\":\"overlay\",\"line_alpha\":{\"value\":1.0},\"line_color\":{\"value\":\"black\"},\"line_dash\":[4,4],\"line_width\":{\"value\":2},\"plot\":null,\"render_mode\":\"css\",\"right_units\":\"screen\",\"top_units\":\"screen\"},\"id\":\"7b642214-05fd-4a38-ad86-271f55844369\",\"type\":\"BoxAnnotation\"},{\"attributes\":{\"plot\":null,\"text\":\"\"},\"id\":\"87d23619-a838-41b9-904a-3c6b946b0f8b\",\"type\":\"Title\"},{\"attributes\":{},\"id\":\"ea088f3b-f982-4cc6-95ce-f262b1ab9e98\",\"type\":\"PanTool\"},{\"attributes\":{\"source\":{\"id\":\"fca55e92-ed9e-4691-82db-a246abfe0387\",\"type\":\"ColumnDataSource\"}},\"id\":\"48460112-72be-4a3b-b2fb-6d6b6b63a106\",\"type\":\"CDSView\"},{\"attributes\":{\"data_source\":{\"id\":\"fca55e92-ed9e-4691-82db-a246abfe0387\",\"type\":\"ColumnDataSource\"},\"glyph\":{\"id\":\"03f5e9f3-95b4-4aa8-953f-af8417348127\",\"type\":\"Circle\"},\"hover_glyph\":null,\"muted_glyph\":null,\"nonselection_glyph\":{\"id\":\"9120d877-7526-4a32-ab53-c87715c2d34d\",\"type\":\"Circle\"},\"selection_glyph\":null,\"view\":{\"id\":\"48460112-72be-4a3b-b2fb-6d6b6b63a106\",\"type\":\"CDSView\"}},\"id\":\"75938a03-fd83-439f-955e-6c82386da547\",\"type\":\"GlyphRenderer\"},{\"attributes\":{},\"id\":\"f11fdee6-8764-4d81-8c75-dd31b73895ae\",\"type\":\"WheelZoomTool\"},{\"attributes\":{\"callback\":null,\"data\":{\"x\":[1,2,3],\"y\":[4,5,6]},\"selected\":{\"id\":\"77055d3e-4697-4c83-985e-906f83b579e9\",\"type\":\"Selection\"},\"selection_policy\":{\"id\":\"d5317258-0738-439b-91a6-e865f4c6f3f3\",\"type\":\"UnionRenderers\"}},\"id\":\"fca55e92-ed9e-4691-82db-a246abfe0387\",\"type\":\"ColumnDataSource\"},{\"attributes\":{\"active_drag\":\"auto\",\"active_inspect\":\"auto\",\"active_multi\":null,\"active_scroll\":\"auto\",\"active_tap\":\"auto\",\"tools\":[{\"id\":\"ea088f3b-f982-4cc6-95ce-f262b1ab9e98\",\"type\":\"PanTool\"},{\"id\":\"f11fdee6-8764-4d81-8c75-dd31b73895ae\",\"type\":\"WheelZoomTool\"},{\"id\":\"e279aab5-1693-4eb2-bda8-07054ad7a801\",\"type\":\"BoxZoomTool\"},{\"id\":\"697d35e4-57d7-402c-8864-3da41e254627\",\"type\":\"SaveTool\"},{\"id\":\"37e447a1-2044-42c7-9f62-829663f0aa25\",\"type\":\"ResetTool\"},{\"id\":\"c21ab171-e388-4005-a80b-a2c768c0201c\",\"type\":\"HelpTool\"}]},\"id\":\"490cdb16-6021-448f-864a-ea76c7efbc9a\",\"type\":\"Toolbar\"},{\"attributes\":{\"overlay\":{\"id\":\"7b642214-05fd-4a38-ad86-271f55844369\",\"type\":\"BoxAnnotation\"}},\"id\":\"e279aab5-1693-4eb2-bda8-07054ad7a801\",\"type\":\"BoxZoomTool\"},{\"attributes\":{\"callback\":null},\"id\":\"cb12086b-7b60-4672-92ce-6c883dfce1c9\",\"type\":\"DataRange1d\"},{\"attributes\":{},\"id\":\"697d35e4-57d7-402c-8864-3da41e254627\",\"type\":\"SaveTool\"},{\"attributes\":{\"fill_color\":{\"value\":\"red\"},\"line_color\":{\"value\":\"#1f77b4\"},\"size\":{\"units\":\"screen\",\"value\":20},\"x\":{\"field\":\"x\"},\"y\":{\"field\":\"y\"}},\"id\":\"03f5e9f3-95b4-4aa8-953f-af8417348127\",\"type\":\"Circle\"},{\"attributes\":{},\"id\":\"37e447a1-2044-42c7-9f62-829663f0aa25\",\"type\":\"ResetTool\"},{\"attributes\":{\"callback\":null},\"id\":\"a42c8a41-0b29-4b11-8fc8-9e476baa9636\",\"type\":\"DataRange1d\"},{\"attributes\":{},\"id\":\"c21ab171-e388-4005-a80b-a2c768c0201c\",\"type\":\"HelpTool\"},{\"attributes\":{},\"id\":\"6207aebd-ae07-44c0-8fe9-250f4a9a7204\",\"type\":\"LinearScale\"},{\"attributes\":{},\"id\":\"535d9f65-fc24-4fe2-b777-e229bf27922c\",\"type\":\"BasicTickFormatter\"},{\"attributes\":{},\"id\":\"3acb70b8-c039-4df3-9e02-2ba62978d5e2\",\"type\":\"LinearScale\"},{\"attributes\":{\"plot\":{\"id\":\"d687d74a-b4a0-47ae-a81b-a9897fbcb620\",\"subtype\":\"Figure\",\"type\":\"Plot\"},\"ticker\":{\"id\":\"b35d86c2-4410-4e03-b502-46eb12a6e034\",\"type\":\"BasicTicker\"}},\"id\":\"78d3ca65-fe53-45cf-af22-ca3c5faf8c15\",\"type\":\"Grid\"},{\"attributes\":{\"formatter\":{\"id\":\"535d9f65-fc24-4fe2-b777-e229bf27922c\",\"type\":\"BasicTickFormatter\"},\"plot\":{\"id\":\"d687d74a-b4a0-47ae-a81b-a9897fbcb620\",\"subtype\":\"Figure\",\"type\":\"Plot\"},\"ticker\":{\"id\":\"b35d86c2-4410-4e03-b502-46eb12a6e034\",\"type\":\"BasicTicker\"}},\"id\":\"7fea63b2-e7a2-48c8-81f1-0fce24da99e4\",\"type\":\"LinearAxis\"},{\"attributes\":{},\"id\":\"b35d86c2-4410-4e03-b502-46eb12a6e034\",\"type\":\"BasicTicker\"},{\"attributes\":{\"below\":[{\"id\":\"7fea63b2-e7a2-48c8-81f1-0fce24da99e4\",\"type\":\"LinearAxis\"}],\"left\":[{\"id\":\"3a18d7bf-84ca-408a-845c-223349292a99\",\"type\":\"LinearAxis\"}],\"min_border\":0,\"plot_height\":250,\"plot_width\":250,\"renderers\":[{\"id\":\"7fea63b2-e7a2-48c8-81f1-0fce24da99e4\",\"type\":\"LinearAxis\"},{\"id\":\"78d3ca65-fe53-45cf-af22-ca3c5faf8c15\",\"type\":\"Grid\"},{\"id\":\"3a18d7bf-84ca-408a-845c-223349292a99\",\"type\":\"LinearAxis\"},{\"id\":\"4c37b7d7-e603-46d9-ba5c-d6d332828cb0\",\"type\":\"Grid\"},{\"id\":\"7b642214-05fd-4a38-ad86-271f55844369\",\"type\":\"BoxAnnotation\"},{\"id\":\"75938a03-fd83-439f-955e-6c82386da547\",\"type\":\"GlyphRenderer\"}],\"title\":{\"id\":\"87d23619-a838-41b9-904a-3c6b946b0f8b\",\"type\":\"Title\"},\"toolbar\":{\"id\":\"490cdb16-6021-448f-864a-ea76c7efbc9a\",\"type\":\"Toolbar\"},\"x_range\":{\"id\":\"cb12086b-7b60-4672-92ce-6c883dfce1c9\",\"type\":\"DataRange1d\"},\"x_scale\":{\"id\":\"6207aebd-ae07-44c0-8fe9-250f4a9a7204\",\"type\":\"LinearScale\"},\"y_range\":{\"id\":\"a42c8a41-0b29-4b11-8fc8-9e476baa9636\",\"type\":\"DataRange1d\"},\"y_scale\":{\"id\":\"3acb70b8-c039-4df3-9e02-2ba62978d5e2\",\"type\":\"LinearScale\"}},\"id\":\"d687d74a-b4a0-47ae-a81b-a9897fbcb620\",\"subtype\":\"Figure\",\"type\":\"Plot\"},{\"attributes\":{},\"id\":\"ed459cc3-3023-4f92-90ea-13a26b88393f\",\"type\":\"BasicTickFormatter\"},{\"attributes\":{\"formatter\":{\"id\":\"ed459cc3-3023-4f92-90ea-13a26b88393f\",\"type\":\"BasicTickFormatter\"},\"plot\":{\"id\":\"d687d74a-b4a0-47ae-a81b-a9897fbcb620\",\"subtype\":\"Figure\",\"type\":\"Plot\"},\"ticker\":{\"id\":\"8d1cc602-8aef-4e3c-b9ae-5d7484a214d4\",\"type\":\"BasicTicker\"}},\"id\":\"3a18d7bf-84ca-408a-845c-223349292a99\",\"type\":\"LinearAxis\"},{\"attributes\":{},\"id\":\"8d1cc602-8aef-4e3c-b9ae-5d7484a214d4\",\"type\":\"BasicTicker\"}],\"root_ids\":[\"d687d74a-b4a0-47ae-a81b-a9897fbcb620\"]},\"title\":\"Bokeh Application\",\"version\":\"0.13.0\"}};\n",
       "  var render_items = [{\"docid\":\"efc01840-2970-4710-9a25-3cb13fc86138\",\"notebook_comms_target\":\"5c7065a0-73fd-45ba-b4f5-f6564d011913\",\"roots\":{\"d687d74a-b4a0-47ae-a81b-a9897fbcb620\":\"8bc6ec7a-06dc-422f-807a-35e6ef31409d\"}}];\n",
       "  root.Bokeh.embed.embed_items_notebook(docs_json, render_items);\n",
       "\n",
       "  }\n",
       "  if (root.Bokeh !== undefined) {\n",
       "    embed_document(root);\n",
       "  } else {\n",
       "    var attempts = 0;\n",
       "    var timer = setInterval(function(root) {\n",
       "      if (root.Bokeh !== undefined) {\n",
       "        embed_document(root);\n",
       "        clearInterval(timer);\n",
       "      }\n",
       "      attempts++;\n",
       "      if (attempts > 100) {\n",
       "        console.log(\"Bokeh: ERROR: Unable to run BokehJS code because BokehJS library is missing\")\n",
       "        clearInterval(timer);\n",
       "      }\n",
       "    }, 10, root)\n",
       "  }\n",
       "})(window);"
      ],
      "application/vnd.bokehjs_exec.v0+json": ""
     },
     "metadata": {
      "application/vnd.bokehjs_exec.v0+json": {
       "id": "d687d74a-b4a0-47ae-a81b-a9897fbcb620"
      }
     },
     "output_type": "display_data"
    },
    {
     "data": {
      "text/html": [
       "<p><code>&lt;Bokeh Notebook handle for <strong>In[10]</strong>&gt;</code></p>"
      ],
      "text/plain": [
       "<bokeh.io.notebook.CommsHandle at 0x188a655cbe0>"
      ]
     },
     "execution_count": 10,
     "metadata": {},
     "output_type": "execute_result"
    }
   ],
   "source": [
    "show(p2, notebook_handle=True)"
   ]
  },
  {
   "cell_type": "code",
   "execution_count": 11,
   "metadata": {},
   "outputs": [],
   "source": [
    "# this will update the immediately previous plot circle color with an explicit handle\n",
    "m2.glyph.fill_color = \"blue\"\n",
    "push_notebook(handle=t3)"
   ]
  }
 ],
 "metadata": {
  "kernelspec": {
   "display_name": "Python 3",
   "language": "python",
   "name": "python3"
  },
  "language_info": {
   "codemirror_mode": {
    "name": "ipython",
    "version": 3
   },
   "file_extension": ".py",
   "mimetype": "text/x-python",
   "name": "python",
   "nbconvert_exporter": "python",
   "pygments_lexer": "ipython3",
   "version": "3.6.6"
  }
 },
 "nbformat": 4,
 "nbformat_minor": 2
}
